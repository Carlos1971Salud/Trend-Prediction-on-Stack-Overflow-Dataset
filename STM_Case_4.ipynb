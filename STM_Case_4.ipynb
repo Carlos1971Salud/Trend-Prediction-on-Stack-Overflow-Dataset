{
  "nbformat": 4,
  "nbformat_minor": 0,
  "metadata": {
    "colab": {
      "name": "STM_Case_4.ipynb",
      "provenance": [],
      "collapsed_sections": [
        "pY4kqzrObXM7",
        "GxY-nIWqaa0H",
        "d1Xl8OqodIbM"
      ]
    },
    "kernelspec": {
      "name": "python3",
      "display_name": "Python 3"
    },
    "language_info": {
      "name": "python"
    }
  },
  "cells": [
    {
      "cell_type": "markdown",
      "source": [
        "# 4. SORU"
      ],
      "metadata": {
        "id": "kP9T4PizaPrn"
      }
    },
    {
      "cell_type": "markdown",
      "source": [
        "## Mounting the Google Drive Connection "
      ],
      "metadata": {
        "id": "pY4kqzrObXM7"
      }
    },
    {
      "cell_type": "code",
      "source": [
        "# COLAB GOOGLE DRIVE CONNECTION/ MOUNT\n",
        "try:\n",
        "  from google.colab import drive\n",
        "  IN_COLAB=True\n",
        "except:\n",
        "  IN_COLAB=False\n",
        "\n",
        "if IN_COLAB:\n",
        "  print(\"We're running Colab\")\n",
        "\n",
        "  # MOUNT\n",
        "if IN_COLAB:\n",
        "  # Mount the Google Drive at mount\n",
        "  mount='/content/gdrive'\n",
        "  print(\"Colab: mounting Google drive on \", mount)\n",
        "\n",
        "  drive.mount(mount)\n",
        "\n",
        "  # Switch to the directory on the Google Drive that you want to use\n",
        "  import os\n",
        "  drive_root = mount + \"/My Drive/stackoverflow\"\n",
        "  \n",
        "  # Create drive_root if it doesn't exist\n",
        "  create_drive_root = True\n",
        "  if create_drive_root:\n",
        "    print(\"\\nColab: making sure \", drive_root, \" exists.\")\n",
        "    os.makedirs(drive_root, exist_ok=True)\n",
        "  \n",
        "  # Change to the directory\n",
        "  print(\"\\nColab: Changing directory to \", drive_root)\n",
        "  %cd $drive_root\n",
        "print('='*40)\n",
        "%pwd"
      ],
      "metadata": {
        "colab": {
          "base_uri": "https://localhost:8080/"
        },
        "id": "6RxIVSyibQly",
        "outputId": "a5a54fe5-bf34-4401-d04b-827c85490650"
      },
      "execution_count": null,
      "outputs": [
        {
          "output_type": "stream",
          "name": "stdout",
          "text": [
            "We're running Colab\n",
            "Colab: mounting Google drive on  /content/gdrive\n",
            "Drive already mounted at /content/gdrive; to attempt to forcibly remount, call drive.mount(\"/content/gdrive\", force_remount=True).\n",
            "\n",
            "Colab: making sure  /content/gdrive/My Drive/stackoverflow  exists.\n",
            "\n",
            "Colab: Changing directory to  /content/gdrive/My Drive/stackoverflow\n",
            "/content/gdrive/My Drive/stackoverflow\n",
            "========================================\n"
          ]
        },
        {
          "output_type": "execute_result",
          "data": {
            "text/plain": [
              "'/content/gdrive/My Drive/stackoverflow'"
            ],
            "application/vnd.google.colaboratory.intrinsic+json": {
              "type": "string"
            }
          },
          "metadata": {},
          "execution_count": 1
        }
      ]
    },
    {
      "cell_type": "markdown",
      "source": [
        "## Import necessary moduls\n"
      ],
      "metadata": {
        "id": "GxY-nIWqaa0H"
      }
    },
    {
      "cell_type": "code",
      "source": [
        "# Import necessary moduls\n",
        "import tensorflow as tf\n",
        "from tensorflow import keras\n",
        "from tensorflow.keras.preprocessing.text import Tokenizer\n",
        "from tensorflow.keras.preprocessing.sequence import pad_sequences\n",
        "\n",
        "# Import numpy and pandas\n",
        "import numpy as np\n",
        "import pandas as pd\n",
        "\n",
        "import matplotlib.pyplot as plt\n",
        "from matplotlib.pyplot import *"
      ],
      "metadata": {
        "id": "QmCgvlWraSCX"
      },
      "execution_count": null,
      "outputs": []
    },
    {
      "cell_type": "markdown",
      "source": [
        "### install dependencies "
      ],
      "metadata": {
        "id": "d1Xl8OqodIbM"
      }
    },
    {
      "cell_type": "code",
      "source": [
        "!pip install textsearch\n",
        "!pip install contractions\n",
        "!pip install textsearch\n",
        "import nltk\n",
        "nltk.download('punkt')\n",
        "nltk.download('stopwords')"
      ],
      "metadata": {
        "colab": {
          "base_uri": "https://localhost:8080/"
        },
        "id": "VGmb7xRvdDpi",
        "outputId": "d141cf5f-e795-42b0-dbc7-13c968349bfe"
      },
      "execution_count": null,
      "outputs": [
        {
          "output_type": "stream",
          "name": "stdout",
          "text": [
            "Looking in indexes: https://pypi.org/simple, https://us-python.pkg.dev/colab-wheels/public/simple/\n",
            "Requirement already satisfied: textsearch in /usr/local/lib/python3.7/dist-packages (0.0.21)\n",
            "Requirement already satisfied: pyahocorasick in /usr/local/lib/python3.7/dist-packages (from textsearch) (1.4.4)\n",
            "Requirement already satisfied: anyascii in /usr/local/lib/python3.7/dist-packages (from textsearch) (0.3.1)\n",
            "Looking in indexes: https://pypi.org/simple, https://us-python.pkg.dev/colab-wheels/public/simple/\n",
            "Requirement already satisfied: contractions in /usr/local/lib/python3.7/dist-packages (0.1.72)\n",
            "Requirement already satisfied: textsearch>=0.0.21 in /usr/local/lib/python3.7/dist-packages (from contractions) (0.0.21)\n",
            "Requirement already satisfied: anyascii in /usr/local/lib/python3.7/dist-packages (from textsearch>=0.0.21->contractions) (0.3.1)\n",
            "Requirement already satisfied: pyahocorasick in /usr/local/lib/python3.7/dist-packages (from textsearch>=0.0.21->contractions) (1.4.4)\n",
            "Looking in indexes: https://pypi.org/simple, https://us-python.pkg.dev/colab-wheels/public/simple/\n",
            "Requirement already satisfied: textsearch in /usr/local/lib/python3.7/dist-packages (0.0.21)\n",
            "Requirement already satisfied: pyahocorasick in /usr/local/lib/python3.7/dist-packages (from textsearch) (1.4.4)\n",
            "Requirement already satisfied: anyascii in /usr/local/lib/python3.7/dist-packages (from textsearch) (0.3.1)\n"
          ]
        },
        {
          "output_type": "stream",
          "name": "stderr",
          "text": [
            "[nltk_data] Downloading package punkt to /root/nltk_data...\n",
            "[nltk_data]   Package punkt is already up-to-date!\n",
            "[nltk_data] Downloading package stopwords to /root/nltk_data...\n",
            "[nltk_data]   Package stopwords is already up-to-date!\n"
          ]
        },
        {
          "output_type": "execute_result",
          "data": {
            "text/plain": [
              "True"
            ]
          },
          "metadata": {},
          "execution_count": 3
        }
      ]
    },
    {
      "cell_type": "markdown",
      "source": [
        "## Load and View Dataset "
      ],
      "metadata": {
        "id": "vYasUOe2bAj9"
      }
    },
    {
      "cell_type": "code",
      "source": [
        "# Readind the csv file\n",
        "df= pd.read_csv(\"stack.csv\")\n",
        "df[0:3]"
      ],
      "metadata": {
        "colab": {
          "base_uri": "https://localhost:8080/",
          "height": 257
        },
        "id": "RgD7YH_xaR2V",
        "outputId": "a5c35120-d21f-436c-befe-2900588e4eed"
      },
      "execution_count": null,
      "outputs": [
        {
          "output_type": "execute_result",
          "data": {
            "text/plain": [
              "   Unnamed: 0                                         tags  \\\n",
              "0        1328                     ['python', 'pip', 'tox']   \n",
              "1        2385                 ['python', 'pip', 'easyocr']   \n",
              "2        2175  ['python', 'reduce', 'numba', 'jit', 'jax']   \n",
              "\n",
              "                                               owner  \\\n",
              "0  {'reputation': 38, 'user_id': 17981284, 'displ...   \n",
              "1  {'reputation': 11, 'user_id': 18649779, 'displ...   \n",
              "2  {'reputation': 79, 'user_id': 18649992, 'displ...   \n",
              "\n",
              "                                               title  \\\n",
              "0  tox refuses to use deps setting in py38 and va...   \n",
              "1     easyocr installation error when install pillow   \n",
              "2                  JAX(XLA) vs Numba(LLVM) Reduction   \n",
              "\n",
              "                                                body  score  \\\n",
              "0  I have a Django project that i'm trying to set...      0   \n",
              "1  I'm trying to install the easyocr library, but...     -1   \n",
              "2  Is it possible to make CPU only reductions wit...      2   \n",
              "\n",
              "    last_activity_date        creation_date  question_id  view_count  \n",
              "0  2022-04-05 03:47:16  2022-04-01 00:22:22     71700514         467  \n",
              "1  2022-04-03 14:42:33  2022-04-01 00:27:03     71700531         132  \n",
              "2  2022-04-03 23:01:43  2022-04-01 02:15:55     71701041         713  "
            ],
            "text/html": [
              "\n",
              "  <div id=\"df-70218490-0506-40bd-b5e9-c27ed70b7432\">\n",
              "    <div class=\"colab-df-container\">\n",
              "      <div>\n",
              "<style scoped>\n",
              "    .dataframe tbody tr th:only-of-type {\n",
              "        vertical-align: middle;\n",
              "    }\n",
              "\n",
              "    .dataframe tbody tr th {\n",
              "        vertical-align: top;\n",
              "    }\n",
              "\n",
              "    .dataframe thead th {\n",
              "        text-align: right;\n",
              "    }\n",
              "</style>\n",
              "<table border=\"1\" class=\"dataframe\">\n",
              "  <thead>\n",
              "    <tr style=\"text-align: right;\">\n",
              "      <th></th>\n",
              "      <th>Unnamed: 0</th>\n",
              "      <th>tags</th>\n",
              "      <th>owner</th>\n",
              "      <th>title</th>\n",
              "      <th>body</th>\n",
              "      <th>score</th>\n",
              "      <th>last_activity_date</th>\n",
              "      <th>creation_date</th>\n",
              "      <th>question_id</th>\n",
              "      <th>view_count</th>\n",
              "    </tr>\n",
              "  </thead>\n",
              "  <tbody>\n",
              "    <tr>\n",
              "      <th>0</th>\n",
              "      <td>1328</td>\n",
              "      <td>['python', 'pip', 'tox']</td>\n",
              "      <td>{'reputation': 38, 'user_id': 17981284, 'displ...</td>\n",
              "      <td>tox refuses to use deps setting in py38 and va...</td>\n",
              "      <td>I have a Django project that i'm trying to set...</td>\n",
              "      <td>0</td>\n",
              "      <td>2022-04-05 03:47:16</td>\n",
              "      <td>2022-04-01 00:22:22</td>\n",
              "      <td>71700514</td>\n",
              "      <td>467</td>\n",
              "    </tr>\n",
              "    <tr>\n",
              "      <th>1</th>\n",
              "      <td>2385</td>\n",
              "      <td>['python', 'pip', 'easyocr']</td>\n",
              "      <td>{'reputation': 11, 'user_id': 18649779, 'displ...</td>\n",
              "      <td>easyocr installation error when install pillow</td>\n",
              "      <td>I'm trying to install the easyocr library, but...</td>\n",
              "      <td>-1</td>\n",
              "      <td>2022-04-03 14:42:33</td>\n",
              "      <td>2022-04-01 00:27:03</td>\n",
              "      <td>71700531</td>\n",
              "      <td>132</td>\n",
              "    </tr>\n",
              "    <tr>\n",
              "      <th>2</th>\n",
              "      <td>2175</td>\n",
              "      <td>['python', 'reduce', 'numba', 'jit', 'jax']</td>\n",
              "      <td>{'reputation': 79, 'user_id': 18649992, 'displ...</td>\n",
              "      <td>JAX(XLA) vs Numba(LLVM) Reduction</td>\n",
              "      <td>Is it possible to make CPU only reductions wit...</td>\n",
              "      <td>2</td>\n",
              "      <td>2022-04-03 23:01:43</td>\n",
              "      <td>2022-04-01 02:15:55</td>\n",
              "      <td>71701041</td>\n",
              "      <td>713</td>\n",
              "    </tr>\n",
              "  </tbody>\n",
              "</table>\n",
              "</div>\n",
              "      <button class=\"colab-df-convert\" onclick=\"convertToInteractive('df-70218490-0506-40bd-b5e9-c27ed70b7432')\"\n",
              "              title=\"Convert this dataframe to an interactive table.\"\n",
              "              style=\"display:none;\">\n",
              "        \n",
              "  <svg xmlns=\"http://www.w3.org/2000/svg\" height=\"24px\"viewBox=\"0 0 24 24\"\n",
              "       width=\"24px\">\n",
              "    <path d=\"M0 0h24v24H0V0z\" fill=\"none\"/>\n",
              "    <path d=\"M18.56 5.44l.94 2.06.94-2.06 2.06-.94-2.06-.94-.94-2.06-.94 2.06-2.06.94zm-11 1L8.5 8.5l.94-2.06 2.06-.94-2.06-.94L8.5 2.5l-.94 2.06-2.06.94zm10 10l.94 2.06.94-2.06 2.06-.94-2.06-.94-.94-2.06-.94 2.06-2.06.94z\"/><path d=\"M17.41 7.96l-1.37-1.37c-.4-.4-.92-.59-1.43-.59-.52 0-1.04.2-1.43.59L10.3 9.45l-7.72 7.72c-.78.78-.78 2.05 0 2.83L4 21.41c.39.39.9.59 1.41.59.51 0 1.02-.2 1.41-.59l7.78-7.78 2.81-2.81c.8-.78.8-2.07 0-2.86zM5.41 20L4 18.59l7.72-7.72 1.47 1.35L5.41 20z\"/>\n",
              "  </svg>\n",
              "      </button>\n",
              "      \n",
              "  <style>\n",
              "    .colab-df-container {\n",
              "      display:flex;\n",
              "      flex-wrap:wrap;\n",
              "      gap: 12px;\n",
              "    }\n",
              "\n",
              "    .colab-df-convert {\n",
              "      background-color: #E8F0FE;\n",
              "      border: none;\n",
              "      border-radius: 50%;\n",
              "      cursor: pointer;\n",
              "      display: none;\n",
              "      fill: #1967D2;\n",
              "      height: 32px;\n",
              "      padding: 0 0 0 0;\n",
              "      width: 32px;\n",
              "    }\n",
              "\n",
              "    .colab-df-convert:hover {\n",
              "      background-color: #E2EBFA;\n",
              "      box-shadow: 0px 1px 2px rgba(60, 64, 67, 0.3), 0px 1px 3px 1px rgba(60, 64, 67, 0.15);\n",
              "      fill: #174EA6;\n",
              "    }\n",
              "\n",
              "    [theme=dark] .colab-df-convert {\n",
              "      background-color: #3B4455;\n",
              "      fill: #D2E3FC;\n",
              "    }\n",
              "\n",
              "    [theme=dark] .colab-df-convert:hover {\n",
              "      background-color: #434B5C;\n",
              "      box-shadow: 0px 1px 3px 1px rgba(0, 0, 0, 0.15);\n",
              "      filter: drop-shadow(0px 1px 2px rgba(0, 0, 0, 0.3));\n",
              "      fill: #FFFFFF;\n",
              "    }\n",
              "  </style>\n",
              "\n",
              "      <script>\n",
              "        const buttonEl =\n",
              "          document.querySelector('#df-70218490-0506-40bd-b5e9-c27ed70b7432 button.colab-df-convert');\n",
              "        buttonEl.style.display =\n",
              "          google.colab.kernel.accessAllowed ? 'block' : 'none';\n",
              "\n",
              "        async function convertToInteractive(key) {\n",
              "          const element = document.querySelector('#df-70218490-0506-40bd-b5e9-c27ed70b7432');\n",
              "          const dataTable =\n",
              "            await google.colab.kernel.invokeFunction('convertToInteractive',\n",
              "                                                     [key], {});\n",
              "          if (!dataTable) return;\n",
              "\n",
              "          const docLinkHtml = 'Like what you see? Visit the ' +\n",
              "            '<a target=\"_blank\" href=https://colab.research.google.com/notebooks/data_table.ipynb>data table notebook</a>'\n",
              "            + ' to learn more about interactive tables.';\n",
              "          element.innerHTML = '';\n",
              "          dataTable['output_type'] = 'display_data';\n",
              "          await google.colab.output.renderOutput(dataTable, element);\n",
              "          const docLink = document.createElement('div');\n",
              "          docLink.innerHTML = docLinkHtml;\n",
              "          element.appendChild(docLink);\n",
              "        }\n",
              "      </script>\n",
              "    </div>\n",
              "  </div>\n",
              "  "
            ]
          },
          "metadata": {},
          "execution_count": 4
        }
      ]
    },
    {
      "cell_type": "code",
      "source": [
        "df['owner'].values[0:3]"
      ],
      "metadata": {
        "colab": {
          "base_uri": "https://localhost:8080/"
        },
        "id": "XK24wSYK2zJA",
        "outputId": "e8a6fb3e-6c31-4b80-a45e-3e68d8293153"
      },
      "execution_count": null,
      "outputs": [
        {
          "output_type": "execute_result",
          "data": {
            "text/plain": [
              "array([\"{'reputation': 38, 'user_id': 17981284, 'display_name': 'dafrandle'}\",\n",
              "       \"{'reputation': 11, 'user_id': 18649779, 'display_name': 'JHOSEF NASCIMENTO'}\",\n",
              "       \"{'reputation': 79, 'user_id': 18649992, 'display_name': 'DavidJ'}\"],\n",
              "      dtype=object)"
            ]
          },
          "metadata": {},
          "execution_count": 5
        }
      ]
    },
    {
      "cell_type": "markdown",
      "source": [
        "## Pre-processing"
      ],
      "metadata": {
        "id": "mYEnPjIbcv3O"
      }
    },
    {
      "cell_type": "code",
      "source": [
        "import nltk\n",
        "import re\n",
        "import numpy as np\n",
        "import contractions\n",
        "\n",
        "stop_words = nltk.corpus.stopwords.words('english')\n",
        "\n",
        "def normalize_document(doc):\n",
        "    # lower case and remove special characters\\whitespaces\n",
        "    doc = re.sub(r'[^a-zA-Z0-9\\s]', '', doc, re.I|re.A)\n",
        "    doc = doc.lower()\n",
        "    doc = doc.strip()\n",
        "    doc = contractions.fix(doc)\n",
        "    # tokenize document\n",
        "    tokens = nltk.word_tokenize(doc)\n",
        "    #filter stopwords out of document\n",
        "    filtered_tokens = [token for token in tokens if token not in stop_words]\n",
        "    # re-create document from filtered tokens\n",
        "    doc = ' '.join(filtered_tokens)\n",
        "    return doc\n",
        "\n",
        "normalize_corpus = np.vectorize(normalize_document)\n",
        "\n",
        "norm_corpus = normalize_corpus(list(df['title'].values))\n",
        "len(norm_corpus)"
      ],
      "metadata": {
        "colab": {
          "base_uri": "https://localhost:8080/"
        },
        "id": "LNPifh5QcvfY",
        "outputId": "6d8f9a6b-1a5a-4cf5-f81a-9b986e235a7a"
      },
      "execution_count": null,
      "outputs": [
        {
          "output_type": "execute_result",
          "data": {
            "text/plain": [
              "32890"
            ]
          },
          "metadata": {},
          "execution_count": 6
        }
      ]
    },
    {
      "cell_type": "code",
      "source": [
        "norm_corpus[0:5]"
      ],
      "metadata": {
        "colab": {
          "base_uri": "https://localhost:8080/"
        },
        "id": "SVuOyJYzaRH7",
        "outputId": "bbc2b627-e182-4d40-ea3a-c31227ebdb28"
      },
      "execution_count": null,
      "outputs": [
        {
          "output_type": "execute_result",
          "data": {
            "text/plain": [
              "array(['tox refuses use deps setting py38 various pip problems',\n",
              "       'easyocr installation error install pillow',\n",
              "       'jaxxla vs numballvm reduction',\n",
              "       'problem matplotlibpyplot vscodes',\n",
              "       'typeerror init missing 1 required positional argument 39units39 coding neural net'],\n",
              "      dtype='<U148')"
            ]
          },
          "metadata": {},
          "execution_count": 7
        }
      ]
    },
    {
      "cell_type": "markdown",
      "source": [
        "\n",
        "## Extracing Features (TF-IDF)\n",
        "> ***FEATURES: TF-IDF*** : Term Frequency-Inverse Document Frequency\n",
        "\n",
        "\n"
      ],
      "metadata": {
        "id": "THbRjTUid9xv"
      }
    },
    {
      "cell_type": "code",
      "source": [
        "from sklearn.feature_extraction.text import CountVectorizer\n",
        "\n",
        "stop_words = stop_words + ['one', 'two', 'three', 'four', 'five', 'get']\n",
        "cv = CountVectorizer(ngram_range=(1, 2), min_df=0.001, max_df=0.99, stop_words=stop_words)\n",
        "features = cv.fit_transform(norm_corpus)\n",
        "features.shape"
      ],
      "metadata": {
        "colab": {
          "base_uri": "https://localhost:8080/"
        },
        "id": "OKu-ZSIxeSvF",
        "outputId": "a7c662f5-0b9d-41a4-8cd6-c5227d2bf708"
      },
      "execution_count": null,
      "outputs": [
        {
          "output_type": "execute_result",
          "data": {
            "text/plain": [
              "(32890, 1163)"
            ]
          },
          "metadata": {},
          "execution_count": 8
        }
      ]
    },
    {
      "cell_type": "markdown",
      "source": [
        "##Clustering\n",
        "\n",
        "\n",
        "> ***K-Means ***\n",
        "\n"
      ],
      "metadata": {
        "id": "2bqWuGoHgo3e"
      }
    },
    {
      "cell_type": "markdown",
      "source": [
        "K-Means is one of the most popular \"clustering\" algorithms. K-means stores $k$ centroids that it uses to define clusters. A point is considered to be in a particular cluster if it is closer to that cluster's centroid than any other centroid.\n",
        "\n",
        "K-Means finds the best centroids by alternating between \n",
        "\n",
        "(1) assigning data points to clusters based on the current centroids \n",
        "(2) chosing centroids (points which are the center of a cluster) based on the current assignment of data points to clusters.\n",
        "\n",
        "till convergence..\n",
        "\n",
        "![](https://i.imgur.com/42n9uvR.png)\n",
        "\n",
        "Features we are using here are BOW based features"
      ],
      "metadata": {
        "id": "zRCXXRdTgyit"
      }
    },
    {
      "cell_type": "code",
      "source": [
        "from sklearn.cluster import KMeans\n",
        "\n",
        "NUM_CLUSTERS = 2\n",
        "km = KMeans(n_clusters=NUM_CLUSTERS, max_iter=10000, n_init=100, random_state=42).fit(features)\n",
        "km"
      ],
      "metadata": {
        "colab": {
          "base_uri": "https://localhost:8080/"
        },
        "id": "phpfbaIyeS5v",
        "outputId": "0a6ab437-f6ff-4360-b140-eb37c678d674"
      },
      "execution_count": null,
      "outputs": [
        {
          "output_type": "execute_result",
          "data": {
            "text/plain": [
              "KMeans(max_iter=10000, n_clusters=2, n_init=100, random_state=42)"
            ]
          },
          "metadata": {},
          "execution_count": 9
        }
      ]
    },
    {
      "cell_type": "code",
      "source": [
        "yh =km.predict(features)\n",
        "yh[0:20]"
      ],
      "metadata": {
        "id": "mcLfZ-tm35vq",
        "colab": {
          "base_uri": "https://localhost:8080/"
        },
        "outputId": "49cd96ad-c08d-4946-d0d3-04a428e7a82f"
      },
      "execution_count": null,
      "outputs": [
        {
          "output_type": "execute_result",
          "data": {
            "text/plain": [
              "array([0, 0, 0, 0, 0, 0, 0, 0, 1, 0, 0, 1, 1, 1, 0, 0, 0, 1, 0, 0],\n",
              "      dtype=int32)"
            ]
          },
          "metadata": {},
          "execution_count": 10
        }
      ]
    },
    {
      "cell_type": "code",
      "source": [
        "df['Cluster Label'] = km.labels_"
      ],
      "metadata": {
        "id": "V-lG5krJ35r_"
      },
      "execution_count": null,
      "outputs": []
    },
    {
      "cell_type": "code",
      "source": [
        "df[0:3]"
      ],
      "metadata": {
        "colab": {
          "base_uri": "https://localhost:8080/",
          "height": 257
        },
        "id": "NMUqLbG435nB",
        "outputId": "b274e8e8-435c-4c06-8715-52187b0cfe2c"
      },
      "execution_count": null,
      "outputs": [
        {
          "output_type": "execute_result",
          "data": {
            "text/plain": [
              "   Unnamed: 0                                         tags  \\\n",
              "0        1328                     ['python', 'pip', 'tox']   \n",
              "1        2385                 ['python', 'pip', 'easyocr']   \n",
              "2        2175  ['python', 'reduce', 'numba', 'jit', 'jax']   \n",
              "\n",
              "                                               owner  \\\n",
              "0  {'reputation': 38, 'user_id': 17981284, 'displ...   \n",
              "1  {'reputation': 11, 'user_id': 18649779, 'displ...   \n",
              "2  {'reputation': 79, 'user_id': 18649992, 'displ...   \n",
              "\n",
              "                                               title  \\\n",
              "0  tox refuses to use deps setting in py38 and va...   \n",
              "1     easyocr installation error when install pillow   \n",
              "2                  JAX(XLA) vs Numba(LLVM) Reduction   \n",
              "\n",
              "                                                body  score  \\\n",
              "0  I have a Django project that i'm trying to set...      0   \n",
              "1  I'm trying to install the easyocr library, but...     -1   \n",
              "2  Is it possible to make CPU only reductions wit...      2   \n",
              "\n",
              "    last_activity_date        creation_date  question_id  view_count  \\\n",
              "0  2022-04-05 03:47:16  2022-04-01 00:22:22     71700514         467   \n",
              "1  2022-04-03 14:42:33  2022-04-01 00:27:03     71700531         132   \n",
              "2  2022-04-03 23:01:43  2022-04-01 02:15:55     71701041         713   \n",
              "\n",
              "   Cluster Label  \n",
              "0              0  \n",
              "1              0  \n",
              "2              0  "
            ],
            "text/html": [
              "\n",
              "  <div id=\"df-0baab373-f59f-442b-ba37-e823c570b59f\">\n",
              "    <div class=\"colab-df-container\">\n",
              "      <div>\n",
              "<style scoped>\n",
              "    .dataframe tbody tr th:only-of-type {\n",
              "        vertical-align: middle;\n",
              "    }\n",
              "\n",
              "    .dataframe tbody tr th {\n",
              "        vertical-align: top;\n",
              "    }\n",
              "\n",
              "    .dataframe thead th {\n",
              "        text-align: right;\n",
              "    }\n",
              "</style>\n",
              "<table border=\"1\" class=\"dataframe\">\n",
              "  <thead>\n",
              "    <tr style=\"text-align: right;\">\n",
              "      <th></th>\n",
              "      <th>Unnamed: 0</th>\n",
              "      <th>tags</th>\n",
              "      <th>owner</th>\n",
              "      <th>title</th>\n",
              "      <th>body</th>\n",
              "      <th>score</th>\n",
              "      <th>last_activity_date</th>\n",
              "      <th>creation_date</th>\n",
              "      <th>question_id</th>\n",
              "      <th>view_count</th>\n",
              "      <th>Cluster Label</th>\n",
              "    </tr>\n",
              "  </thead>\n",
              "  <tbody>\n",
              "    <tr>\n",
              "      <th>0</th>\n",
              "      <td>1328</td>\n",
              "      <td>['python', 'pip', 'tox']</td>\n",
              "      <td>{'reputation': 38, 'user_id': 17981284, 'displ...</td>\n",
              "      <td>tox refuses to use deps setting in py38 and va...</td>\n",
              "      <td>I have a Django project that i'm trying to set...</td>\n",
              "      <td>0</td>\n",
              "      <td>2022-04-05 03:47:16</td>\n",
              "      <td>2022-04-01 00:22:22</td>\n",
              "      <td>71700514</td>\n",
              "      <td>467</td>\n",
              "      <td>0</td>\n",
              "    </tr>\n",
              "    <tr>\n",
              "      <th>1</th>\n",
              "      <td>2385</td>\n",
              "      <td>['python', 'pip', 'easyocr']</td>\n",
              "      <td>{'reputation': 11, 'user_id': 18649779, 'displ...</td>\n",
              "      <td>easyocr installation error when install pillow</td>\n",
              "      <td>I'm trying to install the easyocr library, but...</td>\n",
              "      <td>-1</td>\n",
              "      <td>2022-04-03 14:42:33</td>\n",
              "      <td>2022-04-01 00:27:03</td>\n",
              "      <td>71700531</td>\n",
              "      <td>132</td>\n",
              "      <td>0</td>\n",
              "    </tr>\n",
              "    <tr>\n",
              "      <th>2</th>\n",
              "      <td>2175</td>\n",
              "      <td>['python', 'reduce', 'numba', 'jit', 'jax']</td>\n",
              "      <td>{'reputation': 79, 'user_id': 18649992, 'displ...</td>\n",
              "      <td>JAX(XLA) vs Numba(LLVM) Reduction</td>\n",
              "      <td>Is it possible to make CPU only reductions wit...</td>\n",
              "      <td>2</td>\n",
              "      <td>2022-04-03 23:01:43</td>\n",
              "      <td>2022-04-01 02:15:55</td>\n",
              "      <td>71701041</td>\n",
              "      <td>713</td>\n",
              "      <td>0</td>\n",
              "    </tr>\n",
              "  </tbody>\n",
              "</table>\n",
              "</div>\n",
              "      <button class=\"colab-df-convert\" onclick=\"convertToInteractive('df-0baab373-f59f-442b-ba37-e823c570b59f')\"\n",
              "              title=\"Convert this dataframe to an interactive table.\"\n",
              "              style=\"display:none;\">\n",
              "        \n",
              "  <svg xmlns=\"http://www.w3.org/2000/svg\" height=\"24px\"viewBox=\"0 0 24 24\"\n",
              "       width=\"24px\">\n",
              "    <path d=\"M0 0h24v24H0V0z\" fill=\"none\"/>\n",
              "    <path d=\"M18.56 5.44l.94 2.06.94-2.06 2.06-.94-2.06-.94-.94-2.06-.94 2.06-2.06.94zm-11 1L8.5 8.5l.94-2.06 2.06-.94-2.06-.94L8.5 2.5l-.94 2.06-2.06.94zm10 10l.94 2.06.94-2.06 2.06-.94-2.06-.94-.94-2.06-.94 2.06-2.06.94z\"/><path d=\"M17.41 7.96l-1.37-1.37c-.4-.4-.92-.59-1.43-.59-.52 0-1.04.2-1.43.59L10.3 9.45l-7.72 7.72c-.78.78-.78 2.05 0 2.83L4 21.41c.39.39.9.59 1.41.59.51 0 1.02-.2 1.41-.59l7.78-7.78 2.81-2.81c.8-.78.8-2.07 0-2.86zM5.41 20L4 18.59l7.72-7.72 1.47 1.35L5.41 20z\"/>\n",
              "  </svg>\n",
              "      </button>\n",
              "      \n",
              "  <style>\n",
              "    .colab-df-container {\n",
              "      display:flex;\n",
              "      flex-wrap:wrap;\n",
              "      gap: 12px;\n",
              "    }\n",
              "\n",
              "    .colab-df-convert {\n",
              "      background-color: #E8F0FE;\n",
              "      border: none;\n",
              "      border-radius: 50%;\n",
              "      cursor: pointer;\n",
              "      display: none;\n",
              "      fill: #1967D2;\n",
              "      height: 32px;\n",
              "      padding: 0 0 0 0;\n",
              "      width: 32px;\n",
              "    }\n",
              "\n",
              "    .colab-df-convert:hover {\n",
              "      background-color: #E2EBFA;\n",
              "      box-shadow: 0px 1px 2px rgba(60, 64, 67, 0.3), 0px 1px 3px 1px rgba(60, 64, 67, 0.15);\n",
              "      fill: #174EA6;\n",
              "    }\n",
              "\n",
              "    [theme=dark] .colab-df-convert {\n",
              "      background-color: #3B4455;\n",
              "      fill: #D2E3FC;\n",
              "    }\n",
              "\n",
              "    [theme=dark] .colab-df-convert:hover {\n",
              "      background-color: #434B5C;\n",
              "      box-shadow: 0px 1px 3px 1px rgba(0, 0, 0, 0.15);\n",
              "      filter: drop-shadow(0px 1px 2px rgba(0, 0, 0, 0.3));\n",
              "      fill: #FFFFFF;\n",
              "    }\n",
              "  </style>\n",
              "\n",
              "      <script>\n",
              "        const buttonEl =\n",
              "          document.querySelector('#df-0baab373-f59f-442b-ba37-e823c570b59f button.colab-df-convert');\n",
              "        buttonEl.style.display =\n",
              "          google.colab.kernel.accessAllowed ? 'block' : 'none';\n",
              "\n",
              "        async function convertToInteractive(key) {\n",
              "          const element = document.querySelector('#df-0baab373-f59f-442b-ba37-e823c570b59f');\n",
              "          const dataTable =\n",
              "            await google.colab.kernel.invokeFunction('convertToInteractive',\n",
              "                                                     [key], {});\n",
              "          if (!dataTable) return;\n",
              "\n",
              "          const docLinkHtml = 'Like what you see? Visit the ' +\n",
              "            '<a target=\"_blank\" href=https://colab.research.google.com/notebooks/data_table.ipynb>data table notebook</a>'\n",
              "            + ' to learn more about interactive tables.';\n",
              "          element.innerHTML = '';\n",
              "          dataTable['output_type'] = 'display_data';\n",
              "          await google.colab.output.renderOutput(dataTable, element);\n",
              "          const docLink = document.createElement('div');\n",
              "          docLink.innerHTML = docLinkHtml;\n",
              "          element.appendChild(docLink);\n",
              "        }\n",
              "      </script>\n",
              "    </div>\n",
              "  </div>\n",
              "  "
            ]
          },
          "metadata": {},
          "execution_count": 12
        }
      ]
    },
    {
      "cell_type": "markdown",
      "source": [
        "# Each entry were classified into 2 cluster labels: \n",
        "\n",
        "> As ***0 (dissimilar)*** and ***1 (similar)*** based on TF-IDF feature similarity.\n",
        "\n",
        "\n",
        "\n",
        "##   Owners can then be classified from those classes common characteristics/properties such favarite tag topics, view counts etc.\n",
        "\n"
      ],
      "metadata": {
        "id": "UbAxyUNw6g28"
      }
    },
    {
      "cell_type": "markdown",
      "source": [
        "## Cluster 1"
      ],
      "metadata": {
        "id": "4K1AJ9vYApT3"
      }
    },
    {
      "cell_type": "code",
      "source": [
        "df_1 = df.loc[ df['Cluster Label'] == 1 ]\n",
        "print ( df_1['title'][0:10] )"
      ],
      "metadata": {
        "colab": {
          "base_uri": "https://localhost:8080/"
        },
        "id": "xDSLpPFA5KT3",
        "outputId": "31d06a05-123c-4b9e-dbd1-d0fb314365d3"
      },
      "execution_count": null,
      "outputs": [
        {
          "output_type": "stream",
          "name": "stdout",
          "text": [
            "8     Cpanel - I am trying to install pillow module ...\n",
            "11    Job type(Full Time , Part Time) detection with...\n",
            "12    Job type(Full Time , Part Time) detection with...\n",
            "13             ignoring data using ttp module in python\n",
            "17    Python and spreadsheet: given the user input, ...\n",
            "22      python dictionary array of callbacks with types\n",
            "24    Uploading images to a windows server using python\n",
            "25    Tensorflow initializing in Python without bein...\n",
            "26    Is there a python library to use Choco solver ...\n",
            "27    Rewriting MATLAB code with nested loops in Pyt...\n",
            "Name: title, dtype: object\n"
          ]
        }
      ]
    },
    {
      "cell_type": "code",
      "source": [
        "print(df_1.nunique())"
      ],
      "metadata": {
        "colab": {
          "base_uri": "https://localhost:8080/"
        },
        "id": "HhQ5nt2R7gTK",
        "outputId": "2a4dfbbf-936a-4236-a89a-eb57fc01d10f"
      },
      "execution_count": null,
      "outputs": [
        {
          "output_type": "stream",
          "name": "stdout",
          "text": [
            "Unnamed: 0            7907\n",
            "tags                  5607\n",
            "owner                 7247\n",
            "title                 8269\n",
            "body                  8266\n",
            "score                   15\n",
            "last_activity_date    8263\n",
            "creation_date         8256\n",
            "question_id           8267\n",
            "view_count             338\n",
            "Cluster Label            1\n",
            "dtype: int64\n"
          ]
        }
      ]
    },
    {
      "cell_type": "markdown",
      "source": [
        "## Cluster 0"
      ],
      "metadata": {
        "id": "EG7yLFQuAvIi"
      }
    },
    {
      "cell_type": "code",
      "source": [
        "df_0 = df.loc[ df['Cluster Label'] == 0 ]\n",
        "print ( df_1['title'][0:10] )"
      ],
      "metadata": {
        "colab": {
          "base_uri": "https://localhost:8080/"
        },
        "id": "vTCuJwlQc72I",
        "outputId": "8ab05052-7b41-43ee-d752-15b8a5b6854d"
      },
      "execution_count": null,
      "outputs": [
        {
          "output_type": "stream",
          "name": "stdout",
          "text": [
            "8     Cpanel - I am trying to install pillow module ...\n",
            "11    Job type(Full Time , Part Time) detection with...\n",
            "12    Job type(Full Time , Part Time) detection with...\n",
            "13             ignoring data using ttp module in python\n",
            "17    Python and spreadsheet: given the user input, ...\n",
            "22      python dictionary array of callbacks with types\n",
            "24    Uploading images to a windows server using python\n",
            "25    Tensorflow initializing in Python without bein...\n",
            "26    Is there a python library to use Choco solver ...\n",
            "27    Rewriting MATLAB code with nested loops in Pyt...\n",
            "Name: title, dtype: object\n"
          ]
        }
      ]
    },
    {
      "cell_type": "code",
      "source": [
        "df_0.nunique()[2]"
      ],
      "metadata": {
        "colab": {
          "base_uri": "https://localhost:8080/"
        },
        "id": "SglR2PEreok6",
        "outputId": "fa30e2a4-b3ab-48b1-d0a7-a5ef6dfe11aa"
      },
      "execution_count": null,
      "outputs": [
        {
          "output_type": "execute_result",
          "data": {
            "text/plain": [
              "18516"
            ]
          },
          "metadata": {},
          "execution_count": 16
        }
      ]
    },
    {
      "cell_type": "code",
      "source": [
        "print(df_0.nunique())"
      ],
      "metadata": {
        "colab": {
          "base_uri": "https://localhost:8080/"
        },
        "id": "DUWh6Ekkc7ow",
        "outputId": "e2eeb8c3-9322-41db-852c-34d3fa4492cd"
      },
      "execution_count": null,
      "outputs": [
        {
          "output_type": "stream",
          "name": "stdout",
          "text": [
            "Unnamed: 0            19537\n",
            "tags                  14051\n",
            "owner                 18516\n",
            "title                 23549\n",
            "body                  23529\n",
            "score                    24\n",
            "last_activity_date    23434\n",
            "creation_date         23451\n",
            "question_id           23535\n",
            "view_count              572\n",
            "Cluster Label             1\n",
            "dtype: int64\n"
          ]
        }
      ]
    },
    {
      "cell_type": "markdown",
      "source": [
        "## Distribution of the Owners into Two-Classes:\n",
        "\n"
      ],
      "metadata": {
        "id": "NXvuxgnYebXp"
      }
    },
    {
      "cell_type": "code",
      "source": [
        "print('Number of unique entry owner for Cluster_0:',df_0.nunique()[2] )\n",
        "print('\\nNumber of unique entry owner for Cluster_1:',df_1.nunique()[2] )"
      ],
      "metadata": {
        "colab": {
          "base_uri": "https://localhost:8080/"
        },
        "id": "oQdSDjKqewC3",
        "outputId": "65f97f81-d9bf-43a2-a63c-3eb3cfe77141"
      },
      "execution_count": null,
      "outputs": [
        {
          "output_type": "stream",
          "name": "stdout",
          "text": [
            "Number of unique entry owner for Cluster_0: 18516\n",
            "\n",
            "Number of unique entry owner for Cluster_1: 7247\n"
          ]
        }
      ]
    },
    {
      "cell_type": "markdown",
      "source": [
        "## Tag distribution of the df_1\n",
        "\n"
      ],
      "metadata": {
        "id": "4HshlDANdthB"
      }
    },
    {
      "cell_type": "code",
      "source": [
        "# Assigning all tag column values\n",
        "sentences_distinct_tags_1 = df_1['tags'].values"
      ],
      "metadata": {
        "id": "kiuoVcYhd2UQ"
      },
      "execution_count": null,
      "outputs": []
    },
    {
      "cell_type": "code",
      "source": [
        "tokenizer = Tokenizer(num_words = 33000, oov_token=\"<OOV>\", filters='!\"#$%&()*+,./:;<=>?@[\\\\]^_`{|}~\\t\\n', split=\",\" )\n",
        "tokenizer.fit_on_texts(sentences_distinct_tags_1)\n",
        "word_index_1 = tokenizer.word_index\n",
        "\n",
        "list_word_index_1=list(word_index_1)\n",
        "print(list_word_index_1[0:15])"
      ],
      "metadata": {
        "colab": {
          "base_uri": "https://localhost:8080/"
        },
        "id": "skvfW5PFd2Mk",
        "outputId": "4e6c3741-cf0b-44cb-d48f-0455dffbe759"
      },
      "execution_count": null,
      "outputs": [
        {
          "output_type": "stream",
          "name": "stdout",
          "text": [
            "['<OOV>', \"'python'\", \" 'python-3\", \" 'pandas'\", \"x'\", \" 'dataframe'\", \" 'list'\", \" 'selenium'\", \" 'numpy'\", \" 'json'\", \" 'dictionary'\", \" 'tkinter'\", \" 'matplotlib'\", \" 'web-scraping'\", \" 'csv'\"]\n",
            "========================================\n"
          ]
        }
      ]
    },
    {
      "cell_type": "markdown",
      "source": [
        "## Tag distribution of the df_0"
      ],
      "metadata": {
        "id": "ReIILww9BDQh"
      }
    },
    {
      "cell_type": "code",
      "source": [
        "# Assigning all tag column values\n",
        "sentences_distinct_tags_0 = df_0['tags'].values"
      ],
      "metadata": {
        "id": "FtOjbDjRA8Ma"
      },
      "execution_count": null,
      "outputs": []
    },
    {
      "cell_type": "code",
      "source": [
        "tokenizer = Tokenizer(num_words = 33000, oov_token=\"<OOV>\", filters='!\"#$%&()*+,./:;<=>?@[\\\\]^_`{|}~\\t\\n', split=\",\" )\n",
        "tokenizer.fit_on_texts(sentences_distinct_tags_0)\n",
        "word_index_0 = tokenizer.word_index\n",
        "\n",
        "list_word_index_0=list(word_index_0)\n",
        "print(list_word_index_0[0:15])"
      ],
      "metadata": {
        "id": "ImKsZgv9A8Jw",
        "colab": {
          "base_uri": "https://localhost:8080/"
        },
        "outputId": "34841cb9-7e96-4bbb-d641-816420f03ac2"
      },
      "execution_count": null,
      "outputs": [
        {
          "output_type": "stream",
          "name": "stdout",
          "text": [
            "['<OOV>', \"'python'\", \" 'pandas'\", \" 'dataframe'\", \" 'python-3\", \"x'\", \" 'django'\", \" 'machine-learning'\", \" 'tensorflow'\", \" 'deep-learning'\", \" 'numpy'\", \" 'keras'\", \" 'matplotlib'\", \" 'pytorch'\", \" 'list'\"]\n",
            "========================================\n"
          ]
        }
      ]
    },
    {
      "cell_type": "markdown",
      "source": [
        "# PERFORMANCE EVALUATION OF THE CLUSTERING:"
      ],
      "metadata": {
        "id": "BYpW2VhCoVYw"
      }
    },
    {
      "cell_type": "markdown",
      "source": [
        "## Evaluation of the Clusters from the ***User Behavior Viewpoint***:\n",
        "\n",
        "\n",
        "> The Tags ***\"machine-learning\"*** and ***\"deep-learning\"*** are only frequent (first 15 item) for the owners (authors) whom classified to the **Cluster_0**. \n",
        "\n",
        "> ***So, we may infere that those owners in the***  ***Cluster_0 work in the filed of the AI/ML.***\n",
        "\n",
        "\n",
        "\n",
        "\n"
      ],
      "metadata": {
        "id": "xCww_D9Igxob"
      }
    },
    {
      "cell_type": "code",
      "source": [
        "print('15 Most frequent tags of the owner whom assigned to Cluster_1',list_word_index_1[0:15])\n",
        "print('='*40)\n",
        "print('15 Most frequent tags of the owner whom assigned to Cluster_0',list_word_index_0[0:15])\n",
        "print('='*40)"
      ],
      "metadata": {
        "id": "4h6orAKNhW56",
        "colab": {
          "base_uri": "https://localhost:8080/"
        },
        "outputId": "cb89ce68-4efe-4833-a0e1-fccd1f2f1195"
      },
      "execution_count": null,
      "outputs": [
        {
          "output_type": "stream",
          "name": "stdout",
          "text": [
            "15 Most frequent tags of the owner whom assigned to Cluster_1 ['<OOV>', \"'python'\", \" 'python-3\", \" 'pandas'\", \"x'\", \" 'dataframe'\", \" 'list'\", \" 'selenium'\", \" 'numpy'\", \" 'json'\", \" 'dictionary'\", \" 'tkinter'\", \" 'matplotlib'\", \" 'web-scraping'\", \" 'csv'\"]\n",
            "========================================\n",
            "15 Most frequent tags of the owner whom assigned to Cluster_0 ['<OOV>', \"'python'\", \" 'pandas'\", \" 'dataframe'\", \" 'python-3\", \"x'\", \" 'django'\", \" 'machine-learning'\", \" 'tensorflow'\", \" 'deep-learning'\", \" 'numpy'\", \" 'keras'\", \" 'matplotlib'\", \" 'pytorch'\", \" 'list'\"]\n",
            "========================================\n"
          ]
        }
      ]
    },
    {
      "cell_type": "markdown",
      "source": [
        "### We may infer that ML/DL Topics is the main reason for the increase in the view counts since nearly all top 15 tags of the two clusters are nearly the same except ML, DL tags."
      ],
      "metadata": {
        "id": "fuLOvI9ytPYu"
      }
    },
    {
      "cell_type": "code",
      "source": [
        "print('Mean of the view_counts in Cluster_1',np.mean(df_1['view_count']))\n",
        "print('='*40)\n",
        "print('Mean of the view_counts in Cluster_0',np.mean(df_0['view_count']))\n",
        "print('='*40)\n",
        "\n"
      ],
      "metadata": {
        "id": "ehvgVbp5maPo",
        "colab": {
          "base_uri": "https://localhost:8080/"
        },
        "outputId": "a65d6f19-8879-4fb1-c783-b586ce470884"
      },
      "execution_count": null,
      "outputs": [
        {
          "output_type": "stream",
          "name": "stdout",
          "text": [
            "Mean of the view_counts in Cluster_1 58.82021531100479\n",
            "========================================\n",
            "Mean of the view_counts in Cluster_0 64.89339584182633\n",
            "========================================\n"
          ]
        }
      ]
    }
  ]
}